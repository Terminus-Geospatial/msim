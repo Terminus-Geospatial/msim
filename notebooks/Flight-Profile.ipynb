{
 "cells": [
  {
   "cell_type": "markdown",
   "id": "3aa3c509-66a3-48af-8e77-3956c3ffe626",
   "metadata": {},
   "source": [
    "# Physics Simulator"
   ]
  },
  {
   "cell_type": "code",
   "execution_count": null,
   "id": "405933a3-c5aa-4470-bc5d-256cedc947d8",
   "metadata": {},
   "outputs": [],
   "source": [
    "# Python Standard Libraries\n",
    "import logging\n",
    "import math\n",
    "\n",
    "# Numerical Python\n",
    "import numpy as np\n",
    "\n",
    "# Pandas\n",
    "import pandas as pd\n",
    "\n",
    "# Plotly \n",
    "import plotly.graph_objects as go\n",
    "import plotly.express       as px\n",
    "import plotly.subplots      as sp\n",
    "\n",
    "#  Internal API\n",
    "from tmns.math.rotations import Axis, Quaternion"
   ]
  },
  {
   "cell_type": "code",
   "execution_count": null,
   "id": "d5ccb42c-dc54-4983-a9e7-3d4d23f75f10",
   "metadata": {},
   "outputs": [],
   "source": [
    "logging.basicConfig( level = logging.INFO )"
   ]
  },
  {
   "cell_type": "markdown",
   "id": "df033189-c3ae-4010-ab0a-685bd32cb7b7",
   "metadata": {},
   "source": [
    "## Vehicle Dynamics (Falcon 1)"
   ]
  },
  {
   "cell_type": "code",
   "execution_count": null,
   "id": "e0a44fc4-01ee-4759-b06a-7dac930037fa",
   "metadata": {},
   "outputs": [],
   "source": [
    "missile_radius_m = 0.25\n",
    "mass_kg = 900\n",
    "\n",
    "body_pitch_rad = 60 * math.pi / 180.0\n",
    "body_yaw_rad   =-45 * math.pi / 180.0\n",
    "body_roll_rad  =  0 * math.pi / 180.0\n",
    "\n",
    "rocket_thrust = 107873.15 # Kilonewtons\n",
    "\n",
    "rocket_thrust_acc = rocket_thrust / mass_kg # meters per second^2\n",
    "logging.info( f'Rocket Acc: {rocket_thrust_acc}' )\n",
    "lift_pct_of_g = 0.5\n",
    "\n",
    "# Burn time\n",
    "burn_time_s = 60"
   ]
  },
  {
   "cell_type": "markdown",
   "id": "43cba167-4d64-4d6f-93e0-bf7d54634222",
   "metadata": {},
   "source": [
    "## Timing Characteristics\n"
   ]
  },
  {
   "cell_type": "code",
   "execution_count": null,
   "id": "e481b1b6-a21a-45ea-9582-6725d1a1e8b2",
   "metadata": {},
   "outputs": [],
   "source": [
    "t_0     =   0\n",
    "t_max   = 500\n",
    "t_delta =   1\n"
   ]
  },
  {
   "cell_type": "markdown",
   "id": "964e3db2-d46f-4c1a-8bcb-59d98a2c332c",
   "metadata": {},
   "source": [
    "## Setup Initial Launch Angle Orientation"
   ]
  },
  {
   "cell_type": "code",
   "execution_count": null,
   "id": "29f5b855-c9fd-409b-8a77-e49cfafc72b1",
   "metadata": {},
   "outputs": [],
   "source": [
    "launch_quat = Quaternion.from_euler_angles( Axis.Y, body_pitch_rad,\n",
    "                                            Axis.X, body_roll_rad,\n",
    "                                            Axis.Z, body_yaw_rad )\n",
    "launch_mat  = launch_quat.to_rotation_matrix()\n",
    "display(launch_mat)"
   ]
  },
  {
   "cell_type": "markdown",
   "id": "3d7666f7-7ff5-492f-93d7-df559697e6f5",
   "metadata": {},
   "source": [
    "## Initial Position"
   ]
  },
  {
   "cell_type": "code",
   "execution_count": null,
   "id": "fbc8da6e-ebf1-4c9e-97c7-1b33655cbea4",
   "metadata": {},
   "outputs": [],
   "source": [
    "P_0 = np.array( [[0],[0],[0]], dtype = np.float64 )\n",
    "display( P_0.T )"
   ]
  },
  {
   "cell_type": "markdown",
   "id": "b85b33cf-1342-4fa0-9279-42362d265d79",
   "metadata": {},
   "source": [
    "## Initial Velocity"
   ]
  },
  {
   "cell_type": "code",
   "execution_count": null,
   "id": "3b6770b2-e810-4390-a3ac-4b20c9554ac2",
   "metadata": {},
   "outputs": [],
   "source": [
    "V_0 = np.array( [[0],[0],[0]], dtype = np.float64 )\n",
    "display( V_0.T )"
   ]
  },
  {
   "cell_type": "markdown",
   "id": "60c339e5-667b-4ca2-8727-9ce9e016c768",
   "metadata": {},
   "source": [
    "## Define Flight Characteristics"
   ]
  },
  {
   "cell_type": "code",
   "execution_count": null,
   "id": "74040e0c-c81e-46ce-a4be-968369ae3187",
   "metadata": {},
   "outputs": [],
   "source": [
    "launch_acc_body = np.array( [[39.2],\n",
    "                             [ 0.0],\n",
    "                             [ 0.0]], dtype = np.float64 )\n"
   ]
  },
  {
   "cell_type": "markdown",
   "id": "8789780b-a077-420b-8c96-16d3f9fe50f4",
   "metadata": {},
   "source": [
    "## Physics Variables\n"
   ]
  },
  {
   "cell_type": "code",
   "execution_count": null,
   "id": "b7bc2bb1-e672-454a-9a25-e6cd67ab781b",
   "metadata": {},
   "outputs": [],
   "source": [
    "g_e = 9.807\n",
    "\n",
    "A_g = np.array( [[0],[0],[-g_e]], dtype = np.float64 )\n",
    "\n",
    "A_thrust_body = np.array( [[rocket_thrust_acc],\n",
    "                           [ 0.0],\n",
    "                           [ 0.0] ], dtype = np.float64 )\n",
    "\n",
    "A_lift_body = np.array( [[0],[0],[lift_pct_of_g * g_e]], dtype = np.float64 )\n",
    "\n",
    "res = { 'x':     [],\n",
    "        'y':     [],\n",
    "        'z':     [],\n",
    "        'dist':  [],\n",
    "        'pitch': [],\n",
    "        'yaw':   [],\n",
    "        't':     [] }\n"
   ]
  },
  {
   "cell_type": "code",
   "execution_count": null,
   "id": "1291d9da-c6c8-45a9-9ad2-9eb42d0d9c22",
   "metadata": {},
   "outputs": [],
   "source": [
    "def acc_from_drag( vel ):\n",
    "    '''\n",
    "    F_d = 0.5 * rho * v^2 * C_d\n",
    "    '''\n",
    "\n",
    "    # Coefficient for rocket\n",
    "    C_d = 0.05\n",
    "    \n",
    "    # mass density of air\n",
    "    rho = 1.2\n",
    "\n",
    "    # Surface area\n",
    "    A = math.pi * (missile_radius_m ** 2)\n",
    "    return 0.5 * rho * vel * vel * C_d * A / mass_kg\n",
    "    "
   ]
  },
  {
   "cell_type": "code",
   "execution_count": null,
   "id": "a6b07956-d0f3-4ac7-b1fc-09c7627829e4",
   "metadata": {},
   "outputs": [],
   "source": [
    "def velocity( dt, v_init, a_cur ):\n",
    "\n",
    "    return v_init + a_cur * dt"
   ]
  },
  {
   "cell_type": "code",
   "execution_count": null,
   "id": "11c0bc4a-7903-4758-8694-e4bf16bda605",
   "metadata": {},
   "outputs": [],
   "source": [
    "def position( dt, p_init, v_cur ):\n",
    "    return p_init + v_cur * dt"
   ]
  },
  {
   "cell_type": "code",
   "execution_count": null,
   "id": "e88e3277-bccb-4c0a-8b04-3d34185e77e0",
   "metadata": {},
   "outputs": [],
   "source": [
    "# Current elapsed time\n",
    "t_cur = 0\n",
    "\n",
    "# Working position and velocity information\n",
    "P_init = P_0\n",
    "V_init = V_0\n",
    "\n",
    "P_cur = np.copy( P_init )\n",
    "V_cur = np.copy( V_init )\n",
    "\n",
    "# Iterate over each time step\n",
    "while t_cur < t_max:\n",
    "\n",
    "    # Compute body rotation matrix\n",
    "    body_quat = Quaternion.from_euler_angles( Axis.Y, body_pitch_rad,\n",
    "                                              Axis.X, body_roll_rad,\n",
    "                                              Axis.Z, body_yaw_rad )\n",
    "\n",
    "    # Compute thrust in the global coordinate system\n",
    "    if t_cur < burn_time_s:\n",
    "        A_thrust = body_quat.to_rotation_matrix() @ A_thrust_body\n",
    "    else:\n",
    "        A_thrust = np.zeros( (3,1), dtype = np.float64 )\n",
    "\n",
    "    #  I want a glide vehicle, so I'll define lift here\n",
    "    #A_lift = A_lift_body\n",
    "    \n",
    "    A_drag   = acc_from_drag( V_init )\n",
    "    A_body   = A_thrust - A_drag\n",
    "\n",
    "    # Accellerations\n",
    "    A_cur = A_g + A_body # + A_lift\n",
    "\n",
    "    # Compute Velocity\n",
    "    V_cur = velocity( t_delta, V_init, A_cur )\n",
    "\n",
    "    # Compute Position\n",
    "    P_cur = position( t_delta, P_init, V_cur )\n",
    "\n",
    "    # Create print string\n",
    "    output =  f'Time: {t_cur}\\n'\n",
    "    output += f'    Position: {P_init.T} -> {P_cur.T}\\n'\n",
    "    output += f'    Velocity: {V_init.T} -> {V_cur.T}\\n'\n",
    "    output += f'    Accel:    {A_cur.T}\\n'\n",
    "    output += f'        Thrust: {A_thrust.T}\\n'\n",
    "    output += f'        Drag: {-A_drag.T}\\n'\n",
    "    output += f'        Grav: {A_g.T}\\n'\n",
    "    logging.debug( output )\n",
    "\n",
    "    # Update body angles\n",
    "    P_delta = P_cur - P_init\n",
    "    base_dist = math.sqrt( P_delta[0][0] ** 2 + P_delta[1][0] ** 2 )\n",
    "    eff_yaw   = math.atan2( P_delta[1][0], P_delta[0][0] )\n",
    "    eff_pitch = math.atan2( P_delta[2][0], base_dist )\n",
    "\n",
    "    total_dist = math.sqrt( P_cur[0][0] ** 2 + P_cur[1][0] ** 2 )\n",
    "    \n",
    "    # Update results\n",
    "    res['x'].append( P_cur[0][0] )\n",
    "    res['y'].append( P_cur[1][0] )\n",
    "    res['z'].append( P_cur[2][0] )\n",
    "    res['t'].append( t_cur )\n",
    "    res['dist'].append( total_dist )\n",
    "    res['pitch'].append( eff_pitch * 180.0 / math.pi )\n",
    "    res['yaw'].append( eff_yaw * 180.0 / math.pi )\n",
    "\n",
    "    if P_cur[2][0] < 0:\n",
    "        print( f'Ground Collision Occurred at {t_cur} seconds' )\n",
    "        break\n",
    "\n",
    "    # Update time\n",
    "    t_cur += t_delta\n",
    "\n",
    "    # Update initial states\n",
    "    P_init = np.copy( P_cur )\n",
    "    V_init = np.copy( V_cur )"
   ]
  },
  {
   "cell_type": "code",
   "execution_count": null,
   "id": "01eabf37-a40d-4cca-9b0e-9daaa42943bf",
   "metadata": {},
   "outputs": [],
   "source": [
    "df = pd.DataFrame( res )\n",
    "df.head(5)\n"
   ]
  },
  {
   "cell_type": "code",
   "execution_count": null,
   "id": "e1bba1d9-a10e-4074-bb5e-c40947f9bb80",
   "metadata": {},
   "outputs": [],
   "source": [
    "fig = sp.make_subplots( rows = 6, cols = 1,\n",
    "                        subplot_titles = [ 'Time vs Horizontal Distance',\n",
    "                                           'Time vs Vertical Distance',\n",
    "                                           'Horizontal vs Vertical Distance',\n",
    "                                           'Pitch Angle',\n",
    "                                           'Yaw Angle' ] )\n",
    "\n",
    "fig.add_trace( go.Scattergl( x = df['t'],\n",
    "                             y = df['dist'] ),\n",
    "               row = 1, col = 1 )\n",
    "\n",
    "fig.add_trace( go.Scattergl( x = df['t'],\n",
    "                             y = df['z'] ),\n",
    "               row = 2, col = 1 )\n",
    "\n",
    "fig.add_trace( go.Scattergl( x = df['dist'],\n",
    "                             y = df['z'] ),\n",
    "               row = 3, col = 1 )\n",
    "\n",
    "fig.add_trace( go.Scattergl( x = df['t'],\n",
    "                             y = df['pitch'] ),\n",
    "               row = 4, col = 1 )\n",
    "\n",
    "fig.add_trace( go.Scattergl( x = df['t'],\n",
    "                             y = df['yaw'] ),\n",
    "               row = 5, col = 1 )\n",
    "\n",
    "fig.add_vline( burn_time_s )\n",
    "fig.update_layout( height = 1500 )\n",
    "fig.show()"
   ]
  },
  {
   "cell_type": "code",
   "execution_count": null,
   "id": "dcc7ba4f-c91d-4bb0-8e51-560d600214a3",
   "metadata": {},
   "outputs": [],
   "source": []
  }
 ],
 "metadata": {
  "kernelspec": {
   "display_name": "Python 3 (ipykernel)",
   "language": "python",
   "name": "python3"
  },
  "language_info": {
   "codemirror_mode": {
    "name": "ipython",
    "version": 3
   },
   "file_extension": ".py",
   "mimetype": "text/x-python",
   "name": "python",
   "nbconvert_exporter": "python",
   "pygments_lexer": "ipython3",
   "version": "3.13.2"
  }
 },
 "nbformat": 4,
 "nbformat_minor": 5
}
